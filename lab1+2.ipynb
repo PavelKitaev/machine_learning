{
  "nbformat": 4,
  "nbformat_minor": 0,
  "metadata": {
    "colab": {
      "provenance": []
    },
    "kernelspec": {
      "name": "python3",
      "display_name": "Python 3"
    },
    "language_info": {
      "name": "python"
    }
  },
  "cells": [
    {
      "cell_type": "markdown",
      "source": [
        "**0. Постановка задачи**\n",
        "\n",
        "Задача классификации - зависимость рейтинга фильма от продолжительности, возрастных ограничений, наличия в фильме насилия, ругательст, наготы, алкоголя, пугающих моментов."
      ],
      "metadata": {
        "id": "xsBlxbUAmL8w"
      }
    },
    {
      "cell_type": "markdown",
      "source": [
        "**1. Чтение данных**"
      ],
      "metadata": {
        "id": "2Gbujrh1IMti"
      }
    },
    {
      "cell_type": "code",
      "source": [
        "import numpy as np\n",
        "import seaborn as sns\n",
        "import pandas as pd\n",
        "import matplotlib.pyplot as plt\n",
        "%matplotlib inline"
      ],
      "metadata": {
        "id": "3_fDIIlimc9A"
      },
      "execution_count": 38,
      "outputs": []
    },
    {
      "cell_type": "code",
      "source": [
        "url = \"https://raw.githubusercontent.com/PavelKitaev/machine_learning/main/imdb.csv\"\n",
        "data = pd.read_csv(url)\n",
        "rows = data.shape[0]\n",
        "columns = data.shape[1]\n",
        "\n",
        "print(\"Строки - \", rows)\n",
        "print(\"Столбцы - \", columns)\n",
        "data.head(10)"
      ],
      "metadata": {
        "colab": {
          "base_uri": "https://localhost:8080/",
          "height": 399
        },
        "id": "pvaaDsZdOO0v",
        "outputId": "dd739b08-40ec-4ba5-abaf-e5248d0d9937"
      },
      "execution_count": 39,
      "outputs": [
        {
          "output_type": "stream",
          "name": "stdout",
          "text": [
            "Строки -  6178\n",
            "Столбцы -  14\n"
          ]
        },
        {
          "output_type": "execute_result",
          "data": {
            "text/plain": [
              "                          Name  Date     Rate     Votes  \\\n",
              "0               No Time to Die  2021      7.6   107,163   \n",
              "1                   The Guilty  2021      6.3    64,375   \n",
              "2    The Many Saints of Newark  2021      6.4    27,145   \n",
              "3  Venom: Let There Be Carnage  2021      6.4    30,443   \n",
              "4                         Dune  2021      8.3    84,636   \n",
              "5                    Ted Lasso  2021      8.8   117,562   \n",
              "6                     Free Guy  2021      7.3   153,835   \n",
              "7          House of the Dragon  2021  No Rate  No Votes   \n",
              "8                  What If...?  2021      7.6    51,959   \n",
              "9                Sex Education  2021      8.3   220,201   \n",
              "\n",
              "                          Genre Duration    Type Certificate Episodes  \\\n",
              "0   Action, Adventure, Thriller     163     Film       PG-13        -   \n",
              "1        Crime, Drama, Thriller      90     Film           R        -   \n",
              "2                  Crime, Drama     120     Film           R        -   \n",
              "3     Action, Adventure, Sci-Fi      97     Film       PG-13        -   \n",
              "4      Action, Adventure, Drama     155     Film       PG-13        -   \n",
              "5          Comedy, Drama, Sport      30   Series       TV-MA       23   \n",
              "6     Action, Adventure, Comedy     115     Film       PG-13        -   \n",
              "7      Action, Adventure, Drama     None  Series        None       10   \n",
              "8  Animation, Action, Adventure     None  Series       TV-14       18   \n",
              "9                 Comedy, Drama      45   Series       TV-MA       25   \n",
              "\n",
              "     Nudity  Violence Profanity   Alcohol Frightening  \n",
              "0      Mild  Moderate      Mild      Mild    Moderate  \n",
              "1      None      None    Severe      None    Moderate  \n",
              "2  Moderate    Severe    Severe  Moderate    Moderate  \n",
              "3      None  Moderate  Moderate      Mild    Moderate  \n",
              "4      None  Moderate      None      Mild    Moderate  \n",
              "5      Mild      None    Severe      Mild        None  \n",
              "6      Mild  Moderate  Moderate      None        Mild  \n",
              "7   No Rate   No Rate   No Rate   No Rate     No Rate  \n",
              "8      None  Moderate      Mild      Mild    Moderate  \n",
              "9    Severe      Mild    Severe  Moderate        Mild  "
            ],
            "text/html": [
              "\n",
              "  <div id=\"df-86f50fa1-5595-48b2-922c-94a4923141b4\" class=\"colab-df-container\">\n",
              "    <div>\n",
              "<style scoped>\n",
              "    .dataframe tbody tr th:only-of-type {\n",
              "        vertical-align: middle;\n",
              "    }\n",
              "\n",
              "    .dataframe tbody tr th {\n",
              "        vertical-align: top;\n",
              "    }\n",
              "\n",
              "    .dataframe thead th {\n",
              "        text-align: right;\n",
              "    }\n",
              "</style>\n",
              "<table border=\"1\" class=\"dataframe\">\n",
              "  <thead>\n",
              "    <tr style=\"text-align: right;\">\n",
              "      <th></th>\n",
              "      <th>Name</th>\n",
              "      <th>Date</th>\n",
              "      <th>Rate</th>\n",
              "      <th>Votes</th>\n",
              "      <th>Genre</th>\n",
              "      <th>Duration</th>\n",
              "      <th>Type</th>\n",
              "      <th>Certificate</th>\n",
              "      <th>Episodes</th>\n",
              "      <th>Nudity</th>\n",
              "      <th>Violence</th>\n",
              "      <th>Profanity</th>\n",
              "      <th>Alcohol</th>\n",
              "      <th>Frightening</th>\n",
              "    </tr>\n",
              "  </thead>\n",
              "  <tbody>\n",
              "    <tr>\n",
              "      <th>0</th>\n",
              "      <td>No Time to Die</td>\n",
              "      <td>2021</td>\n",
              "      <td>7.6</td>\n",
              "      <td>107,163</td>\n",
              "      <td>Action, Adventure, Thriller</td>\n",
              "      <td>163</td>\n",
              "      <td>Film</td>\n",
              "      <td>PG-13</td>\n",
              "      <td>-</td>\n",
              "      <td>Mild</td>\n",
              "      <td>Moderate</td>\n",
              "      <td>Mild</td>\n",
              "      <td>Mild</td>\n",
              "      <td>Moderate</td>\n",
              "    </tr>\n",
              "    <tr>\n",
              "      <th>1</th>\n",
              "      <td>The Guilty</td>\n",
              "      <td>2021</td>\n",
              "      <td>6.3</td>\n",
              "      <td>64,375</td>\n",
              "      <td>Crime, Drama, Thriller</td>\n",
              "      <td>90</td>\n",
              "      <td>Film</td>\n",
              "      <td>R</td>\n",
              "      <td>-</td>\n",
              "      <td>None</td>\n",
              "      <td>None</td>\n",
              "      <td>Severe</td>\n",
              "      <td>None</td>\n",
              "      <td>Moderate</td>\n",
              "    </tr>\n",
              "    <tr>\n",
              "      <th>2</th>\n",
              "      <td>The Many Saints of Newark</td>\n",
              "      <td>2021</td>\n",
              "      <td>6.4</td>\n",
              "      <td>27,145</td>\n",
              "      <td>Crime, Drama</td>\n",
              "      <td>120</td>\n",
              "      <td>Film</td>\n",
              "      <td>R</td>\n",
              "      <td>-</td>\n",
              "      <td>Moderate</td>\n",
              "      <td>Severe</td>\n",
              "      <td>Severe</td>\n",
              "      <td>Moderate</td>\n",
              "      <td>Moderate</td>\n",
              "    </tr>\n",
              "    <tr>\n",
              "      <th>3</th>\n",
              "      <td>Venom: Let There Be Carnage</td>\n",
              "      <td>2021</td>\n",
              "      <td>6.4</td>\n",
              "      <td>30,443</td>\n",
              "      <td>Action, Adventure, Sci-Fi</td>\n",
              "      <td>97</td>\n",
              "      <td>Film</td>\n",
              "      <td>PG-13</td>\n",
              "      <td>-</td>\n",
              "      <td>None</td>\n",
              "      <td>Moderate</td>\n",
              "      <td>Moderate</td>\n",
              "      <td>Mild</td>\n",
              "      <td>Moderate</td>\n",
              "    </tr>\n",
              "    <tr>\n",
              "      <th>4</th>\n",
              "      <td>Dune</td>\n",
              "      <td>2021</td>\n",
              "      <td>8.3</td>\n",
              "      <td>84,636</td>\n",
              "      <td>Action, Adventure, Drama</td>\n",
              "      <td>155</td>\n",
              "      <td>Film</td>\n",
              "      <td>PG-13</td>\n",
              "      <td>-</td>\n",
              "      <td>None</td>\n",
              "      <td>Moderate</td>\n",
              "      <td>None</td>\n",
              "      <td>Mild</td>\n",
              "      <td>Moderate</td>\n",
              "    </tr>\n",
              "    <tr>\n",
              "      <th>5</th>\n",
              "      <td>Ted Lasso</td>\n",
              "      <td>2021</td>\n",
              "      <td>8.8</td>\n",
              "      <td>117,562</td>\n",
              "      <td>Comedy, Drama, Sport</td>\n",
              "      <td>30</td>\n",
              "      <td>Series</td>\n",
              "      <td>TV-MA</td>\n",
              "      <td>23</td>\n",
              "      <td>Mild</td>\n",
              "      <td>None</td>\n",
              "      <td>Severe</td>\n",
              "      <td>Mild</td>\n",
              "      <td>None</td>\n",
              "    </tr>\n",
              "    <tr>\n",
              "      <th>6</th>\n",
              "      <td>Free Guy</td>\n",
              "      <td>2021</td>\n",
              "      <td>7.3</td>\n",
              "      <td>153,835</td>\n",
              "      <td>Action, Adventure, Comedy</td>\n",
              "      <td>115</td>\n",
              "      <td>Film</td>\n",
              "      <td>PG-13</td>\n",
              "      <td>-</td>\n",
              "      <td>Mild</td>\n",
              "      <td>Moderate</td>\n",
              "      <td>Moderate</td>\n",
              "      <td>None</td>\n",
              "      <td>Mild</td>\n",
              "    </tr>\n",
              "    <tr>\n",
              "      <th>7</th>\n",
              "      <td>House of the Dragon</td>\n",
              "      <td>2021</td>\n",
              "      <td>No Rate</td>\n",
              "      <td>No Votes</td>\n",
              "      <td>Action, Adventure, Drama</td>\n",
              "      <td>None</td>\n",
              "      <td>Series</td>\n",
              "      <td>None</td>\n",
              "      <td>10</td>\n",
              "      <td>No Rate</td>\n",
              "      <td>No Rate</td>\n",
              "      <td>No Rate</td>\n",
              "      <td>No Rate</td>\n",
              "      <td>No Rate</td>\n",
              "    </tr>\n",
              "    <tr>\n",
              "      <th>8</th>\n",
              "      <td>What If...?</td>\n",
              "      <td>2021</td>\n",
              "      <td>7.6</td>\n",
              "      <td>51,959</td>\n",
              "      <td>Animation, Action, Adventure</td>\n",
              "      <td>None</td>\n",
              "      <td>Series</td>\n",
              "      <td>TV-14</td>\n",
              "      <td>18</td>\n",
              "      <td>None</td>\n",
              "      <td>Moderate</td>\n",
              "      <td>Mild</td>\n",
              "      <td>Mild</td>\n",
              "      <td>Moderate</td>\n",
              "    </tr>\n",
              "    <tr>\n",
              "      <th>9</th>\n",
              "      <td>Sex Education</td>\n",
              "      <td>2021</td>\n",
              "      <td>8.3</td>\n",
              "      <td>220,201</td>\n",
              "      <td>Comedy, Drama</td>\n",
              "      <td>45</td>\n",
              "      <td>Series</td>\n",
              "      <td>TV-MA</td>\n",
              "      <td>25</td>\n",
              "      <td>Severe</td>\n",
              "      <td>Mild</td>\n",
              "      <td>Severe</td>\n",
              "      <td>Moderate</td>\n",
              "      <td>Mild</td>\n",
              "    </tr>\n",
              "  </tbody>\n",
              "</table>\n",
              "</div>\n",
              "    <div class=\"colab-df-buttons\">\n",
              "\n",
              "  <div class=\"colab-df-container\">\n",
              "    <button class=\"colab-df-convert\" onclick=\"convertToInteractive('df-86f50fa1-5595-48b2-922c-94a4923141b4')\"\n",
              "            title=\"Convert this dataframe to an interactive table.\"\n",
              "            style=\"display:none;\">\n",
              "\n",
              "  <svg xmlns=\"http://www.w3.org/2000/svg\" height=\"24px\" viewBox=\"0 -960 960 960\">\n",
              "    <path d=\"M120-120v-720h720v720H120Zm60-500h600v-160H180v160Zm220 220h160v-160H400v160Zm0 220h160v-160H400v160ZM180-400h160v-160H180v160Zm440 0h160v-160H620v160ZM180-180h160v-160H180v160Zm440 0h160v-160H620v160Z\"/>\n",
              "  </svg>\n",
              "    </button>\n",
              "\n",
              "  <style>\n",
              "    .colab-df-container {\n",
              "      display:flex;\n",
              "      gap: 12px;\n",
              "    }\n",
              "\n",
              "    .colab-df-convert {\n",
              "      background-color: #E8F0FE;\n",
              "      border: none;\n",
              "      border-radius: 50%;\n",
              "      cursor: pointer;\n",
              "      display: none;\n",
              "      fill: #1967D2;\n",
              "      height: 32px;\n",
              "      padding: 0 0 0 0;\n",
              "      width: 32px;\n",
              "    }\n",
              "\n",
              "    .colab-df-convert:hover {\n",
              "      background-color: #E2EBFA;\n",
              "      box-shadow: 0px 1px 2px rgba(60, 64, 67, 0.3), 0px 1px 3px 1px rgba(60, 64, 67, 0.15);\n",
              "      fill: #174EA6;\n",
              "    }\n",
              "\n",
              "    .colab-df-buttons div {\n",
              "      margin-bottom: 4px;\n",
              "    }\n",
              "\n",
              "    [theme=dark] .colab-df-convert {\n",
              "      background-color: #3B4455;\n",
              "      fill: #D2E3FC;\n",
              "    }\n",
              "\n",
              "    [theme=dark] .colab-df-convert:hover {\n",
              "      background-color: #434B5C;\n",
              "      box-shadow: 0px 1px 3px 1px rgba(0, 0, 0, 0.15);\n",
              "      filter: drop-shadow(0px 1px 2px rgba(0, 0, 0, 0.3));\n",
              "      fill: #FFFFFF;\n",
              "    }\n",
              "  </style>\n",
              "\n",
              "    <script>\n",
              "      const buttonEl =\n",
              "        document.querySelector('#df-86f50fa1-5595-48b2-922c-94a4923141b4 button.colab-df-convert');\n",
              "      buttonEl.style.display =\n",
              "        google.colab.kernel.accessAllowed ? 'block' : 'none';\n",
              "\n",
              "      async function convertToInteractive(key) {\n",
              "        const element = document.querySelector('#df-86f50fa1-5595-48b2-922c-94a4923141b4');\n",
              "        const dataTable =\n",
              "          await google.colab.kernel.invokeFunction('convertToInteractive',\n",
              "                                                    [key], {});\n",
              "        if (!dataTable) return;\n",
              "\n",
              "        const docLinkHtml = 'Like what you see? Visit the ' +\n",
              "          '<a target=\"_blank\" href=https://colab.research.google.com/notebooks/data_table.ipynb>data table notebook</a>'\n",
              "          + ' to learn more about interactive tables.';\n",
              "        element.innerHTML = '';\n",
              "        dataTable['output_type'] = 'display_data';\n",
              "        await google.colab.output.renderOutput(dataTable, element);\n",
              "        const docLink = document.createElement('div');\n",
              "        docLink.innerHTML = docLinkHtml;\n",
              "        element.appendChild(docLink);\n",
              "      }\n",
              "    </script>\n",
              "  </div>\n",
              "\n",
              "\n",
              "<div id=\"df-b28423d1-35a7-4bda-b29e-a960fb1026c2\">\n",
              "  <button class=\"colab-df-quickchart\" onclick=\"quickchart('df-b28423d1-35a7-4bda-b29e-a960fb1026c2')\"\n",
              "            title=\"Suggest charts\"\n",
              "            style=\"display:none;\">\n",
              "\n",
              "<svg xmlns=\"http://www.w3.org/2000/svg\" height=\"24px\"viewBox=\"0 0 24 24\"\n",
              "     width=\"24px\">\n",
              "    <g>\n",
              "        <path d=\"M19 3H5c-1.1 0-2 .9-2 2v14c0 1.1.9 2 2 2h14c1.1 0 2-.9 2-2V5c0-1.1-.9-2-2-2zM9 17H7v-7h2v7zm4 0h-2V7h2v10zm4 0h-2v-4h2v4z\"/>\n",
              "    </g>\n",
              "</svg>\n",
              "  </button>\n",
              "\n",
              "<style>\n",
              "  .colab-df-quickchart {\n",
              "      --bg-color: #E8F0FE;\n",
              "      --fill-color: #1967D2;\n",
              "      --hover-bg-color: #E2EBFA;\n",
              "      --hover-fill-color: #174EA6;\n",
              "      --disabled-fill-color: #AAA;\n",
              "      --disabled-bg-color: #DDD;\n",
              "  }\n",
              "\n",
              "  [theme=dark] .colab-df-quickchart {\n",
              "      --bg-color: #3B4455;\n",
              "      --fill-color: #D2E3FC;\n",
              "      --hover-bg-color: #434B5C;\n",
              "      --hover-fill-color: #FFFFFF;\n",
              "      --disabled-bg-color: #3B4455;\n",
              "      --disabled-fill-color: #666;\n",
              "  }\n",
              "\n",
              "  .colab-df-quickchart {\n",
              "    background-color: var(--bg-color);\n",
              "    border: none;\n",
              "    border-radius: 50%;\n",
              "    cursor: pointer;\n",
              "    display: none;\n",
              "    fill: var(--fill-color);\n",
              "    height: 32px;\n",
              "    padding: 0;\n",
              "    width: 32px;\n",
              "  }\n",
              "\n",
              "  .colab-df-quickchart:hover {\n",
              "    background-color: var(--hover-bg-color);\n",
              "    box-shadow: 0 1px 2px rgba(60, 64, 67, 0.3), 0 1px 3px 1px rgba(60, 64, 67, 0.15);\n",
              "    fill: var(--button-hover-fill-color);\n",
              "  }\n",
              "\n",
              "  .colab-df-quickchart-complete:disabled,\n",
              "  .colab-df-quickchart-complete:disabled:hover {\n",
              "    background-color: var(--disabled-bg-color);\n",
              "    fill: var(--disabled-fill-color);\n",
              "    box-shadow: none;\n",
              "  }\n",
              "\n",
              "  .colab-df-spinner {\n",
              "    border: 2px solid var(--fill-color);\n",
              "    border-color: transparent;\n",
              "    border-bottom-color: var(--fill-color);\n",
              "    animation:\n",
              "      spin 1s steps(1) infinite;\n",
              "  }\n",
              "\n",
              "  @keyframes spin {\n",
              "    0% {\n",
              "      border-color: transparent;\n",
              "      border-bottom-color: var(--fill-color);\n",
              "      border-left-color: var(--fill-color);\n",
              "    }\n",
              "    20% {\n",
              "      border-color: transparent;\n",
              "      border-left-color: var(--fill-color);\n",
              "      border-top-color: var(--fill-color);\n",
              "    }\n",
              "    30% {\n",
              "      border-color: transparent;\n",
              "      border-left-color: var(--fill-color);\n",
              "      border-top-color: var(--fill-color);\n",
              "      border-right-color: var(--fill-color);\n",
              "    }\n",
              "    40% {\n",
              "      border-color: transparent;\n",
              "      border-right-color: var(--fill-color);\n",
              "      border-top-color: var(--fill-color);\n",
              "    }\n",
              "    60% {\n",
              "      border-color: transparent;\n",
              "      border-right-color: var(--fill-color);\n",
              "    }\n",
              "    80% {\n",
              "      border-color: transparent;\n",
              "      border-right-color: var(--fill-color);\n",
              "      border-bottom-color: var(--fill-color);\n",
              "    }\n",
              "    90% {\n",
              "      border-color: transparent;\n",
              "      border-bottom-color: var(--fill-color);\n",
              "    }\n",
              "  }\n",
              "</style>\n",
              "\n",
              "  <script>\n",
              "    async function quickchart(key) {\n",
              "      const quickchartButtonEl =\n",
              "        document.querySelector('#' + key + ' button');\n",
              "      quickchartButtonEl.disabled = true;  // To prevent multiple clicks.\n",
              "      quickchartButtonEl.classList.add('colab-df-spinner');\n",
              "      try {\n",
              "        const charts = await google.colab.kernel.invokeFunction(\n",
              "            'suggestCharts', [key], {});\n",
              "      } catch (error) {\n",
              "        console.error('Error during call to suggestCharts:', error);\n",
              "      }\n",
              "      quickchartButtonEl.classList.remove('colab-df-spinner');\n",
              "      quickchartButtonEl.classList.add('colab-df-quickchart-complete');\n",
              "    }\n",
              "    (() => {\n",
              "      let quickchartButtonEl =\n",
              "        document.querySelector('#df-b28423d1-35a7-4bda-b29e-a960fb1026c2 button');\n",
              "      quickchartButtonEl.style.display =\n",
              "        google.colab.kernel.accessAllowed ? 'block' : 'none';\n",
              "    })();\n",
              "  </script>\n",
              "</div>\n",
              "    </div>\n",
              "  </div>\n"
            ]
          },
          "metadata": {},
          "execution_count": 39
        }
      ]
    },
    {
      "cell_type": "markdown",
      "source": [
        "**Подготовка данных**\n",
        "\n",
        "Удаление строк с отсутствующими значениями, а также корректировка типов данных."
      ],
      "metadata": {
        "id": "2MvMoQHo1vTV"
      }
    },
    {
      "cell_type": "code",
      "source": [
        "# Удаление строк, которые характеризуют сериалы\n",
        "data = data.loc[data['Type'] != 'Series']\n",
        "\n",
        "# Удаление столбца с жанрами и количеством эпизодов\n",
        "data = data.drop(\"Episodes\", axis=1)\n",
        "data = data.drop(\"Genre\", axis=1)\n",
        "\n",
        "# Удаление строк с отсутствующими значениями\n",
        "data = data.loc[data['Rate'] != 'No Rate']\n",
        "data = data.loc[data['Votes'] != 'No Votes']\n",
        "data = data.loc[data['Duration'] != 'None']\n",
        "\n",
        "#data = data.loc[data['Nudity'] != 'No Rate']\n",
        "#data = data.loc[data['Violence'] != 'No Rate']\n",
        "#data = data.loc[data['Profanity'] != 'No Rate']\n",
        "#data = data.loc[data['Alcohol'] != 'No Rate']\n",
        "#data = data.loc[data['Frightening'] != 'No Rate']\n",
        "\n",
        "data = data.loc[data['Certificate'] != 'Passed']\n",
        "data = data.loc[data['Certificate'] != 'Not Rated']\n",
        "\n",
        "# Удаление запятой из значений 'Votes' для корректного преобразования в int\n",
        "data['Votes'] = data['Votes'].str.replace(',', '')\n",
        "\n",
        "# Преобразование данных о наличии в фильме насилия, алкоголя,\n",
        "# пугающих моментов, матов, наготы в числовые данные\n",
        "# 0 - Отсутствует (None)\n",
        "# 1 - Мало (Mild)\n",
        "# 2 - Умерено (Moderate)\n",
        "# 3 - Много (Severe)\n",
        "\n",
        "data['Nudity'].replace(['No Rate', 'None', 'Mild', 'Moderate', 'Severe'], [1, 0, 1, 2, 3], inplace=True)\n",
        "data['Violence'].replace(['No Rate', 'None', 'Mild', 'Moderate', 'Severe'], [1, 0, 1, 2, 3], inplace=True)\n",
        "data['Profanity'].replace(['No Rate', 'None', 'Mild', 'Moderate', 'Severe'], [1, 0, 1, 2, 3], inplace=True)\n",
        "data['Alcohol'].replace(['No Rate', 'None', 'Mild', 'Moderate', 'Severe'], [1, 0, 1, 2, 3], inplace=True)\n",
        "data['Frightening'].replace(['No Rate', 'None', 'Mild', 'Moderate', 'Severe'], [1, 0, 1, 2, 3], inplace=True)\n",
        "\n",
        "# Корректировка типов\n",
        "data['Rate'] = data['Rate'].astype('float64')\n",
        "data['Votes'] = data['Votes'].astype('int64')\n",
        "data['Duration'] = data['Duration'].astype('int64')\n",
        "data['Certificate'] = data['Certificate'].astype('category')\n",
        "data['Nudity'] = data['Nudity'].astype('int64')\n",
        "data['Violence'] = data['Violence'].astype('int64')\n",
        "data['Profanity'] = data['Profanity'].astype('int64')\n",
        "data['Alcohol'] = data['Alcohol'].astype('int64')\n",
        "data['Frightening'] = data['Frightening'].astype('int64')\n",
        "\n",
        "# Преобразование данных о возрастном рейтинге (С интерпритацией на систему рейтинга РФ)\n",
        "data['Certificate'].replace(['None', 'GP', 'Unrated', 'E', 'TV-Y', 'TV-Y7', 'G', 'TV-G',\n",
        "    'PG', 'Approved', 'TV-PG', 'PG-13', 'M', 'M-PG', 'M/PG', 'TV-14', 'R', 'TV-MA', 'NC-17', '(Banned)', 'X'],\n",
        "    [0, 0, 0, 0, 0, 7, 14, 14, 14, 14, 14, 12, 12, 12, 12, 14, 18, 18, 18, 18, 18], inplace=True)\n",
        "\n",
        "# Переводим рейтинг из 10-ти бальной системы в условную 4-х бальную\n",
        "# 0-3.9 - плохо (1)\n",
        "# 4-5.9 - нормально (2)\n",
        "# 6-7.9 - хорошо (3)\n",
        "# 8-10 - отлично (4)\n",
        "\n",
        "data['Rate'] = data['Rate'].mask(((data['Rate'] >= 0) & (data['Rate'] <= 3.9)), 1)\n",
        "data['Rate'] = data['Rate'].mask(((data['Rate'] >= 4.0) & (data['Rate'] <= 5.9)), 2)\n",
        "data['Rate'] = data['Rate'].mask(((data['Rate'] >= 6.0) & (data['Rate'] <= 7.9)), 3)\n",
        "data['Rate'] = data['Rate'].mask(((data['Rate'] >= 8.0) & (data['Rate'] <= 10.0)), 4)\n",
        "data['Rate'] = data['Rate'].astype('int64')\n",
        "\n",
        "rows = data.shape[0]\n",
        "columns = data.shape[1]\n",
        "\n",
        "print(\"Строки - \", rows)\n",
        "print(\"Столбцы - \", columns)"
      ],
      "metadata": {
        "colab": {
          "base_uri": "https://localhost:8080/"
        },
        "id": "fLv6y8zYQQ8R",
        "outputId": "39a7a4b2-4246-4689-a5e4-907272432e36"
      },
      "execution_count": 40,
      "outputs": [
        {
          "output_type": "stream",
          "name": "stdout",
          "text": [
            "Строки -  4084\n",
            "Столбцы -  12\n"
          ]
        }
      ]
    },
    {
      "cell_type": "markdown",
      "source": [
        "До обработки данные содержали 6178 строк. После - 4084\n",
        "\n",
        "Убедимся в отсутствии пропущенных значений:"
      ],
      "metadata": {
        "id": "HzOV3666A0JQ"
      }
    },
    {
      "cell_type": "code",
      "source": [
        "numerical_columns = ['Rate', 'Votes', 'Duration']\n",
        "data[numerical_columns].count(axis = 0)"
      ],
      "metadata": {
        "colab": {
          "base_uri": "https://localhost:8080/"
        },
        "id": "KxT8TKORAwCa",
        "outputId": "180f9a89-e45b-45c0-9fdd-eae6bd686fd2"
      },
      "execution_count": 41,
      "outputs": [
        {
          "output_type": "execute_result",
          "data": {
            "text/plain": [
              "Rate        4084\n",
              "Votes       4084\n",
              "Duration    4084\n",
              "dtype: int64"
            ]
          },
          "metadata": {},
          "execution_count": 41
        }
      ]
    },
    {
      "cell_type": "code",
      "source": [
        "categorical_columns = ['Certificate', 'Nudity', 'Violence', 'Profanity', 'Alcohol', 'Frightening']\n",
        "data[categorical_columns].count(axis = 0)"
      ],
      "metadata": {
        "colab": {
          "base_uri": "https://localhost:8080/"
        },
        "id": "DkRsYjIhfyLM",
        "outputId": "ce4102ea-e05e-4224-ae89-10998a666a24"
      },
      "execution_count": 42,
      "outputs": [
        {
          "output_type": "execute_result",
          "data": {
            "text/plain": [
              "Certificate    4084\n",
              "Nudity         4084\n",
              "Violence       4084\n",
              "Profanity      4084\n",
              "Alcohol        4084\n",
              "Frightening    4084\n",
              "dtype: int64"
            ]
          },
          "metadata": {},
          "execution_count": 42
        }
      ]
    },
    {
      "cell_type": "markdown",
      "source": [
        "**2. Визуализация данных**"
      ],
      "metadata": {
        "id": "6zLlThm-eaRA"
      }
    },
    {
      "cell_type": "code",
      "source": [
        "# Количественные признаки\n",
        "data.describe()"
      ],
      "metadata": {
        "colab": {
          "base_uri": "https://localhost:8080/",
          "height": 300
        },
        "id": "z4Z2oWVpg82K",
        "outputId": "36952056-74d4-4382-f7cd-7a89a4b667d2"
      },
      "execution_count": 43,
      "outputs": [
        {
          "output_type": "execute_result",
          "data": {
            "text/plain": [
              "              Date         Rate         Votes     Duration       Nudity  \\\n",
              "count  4084.000000  4084.000000  4.084000e+03  4084.000000  4084.000000   \n",
              "mean   2005.601126     2.835700  1.584419e+05   110.615573     1.083986   \n",
              "std      14.625199     0.566593  2.144436e+05    20.807048     0.874460   \n",
              "min    1932.000000     1.000000  5.200000e+01     2.000000     0.000000   \n",
              "25%    1998.000000     3.000000  3.385175e+04    96.000000     0.000000   \n",
              "50%    2009.000000     3.000000  9.072300e+04   108.000000     1.000000   \n",
              "75%    2017.000000     3.000000  1.967550e+05   121.000000     2.000000   \n",
              "max    2021.000000     4.000000  2.474122e+06   242.000000     3.000000   \n",
              "\n",
              "          Violence    Profanity      Alcohol  Frightening  \n",
              "count  4084.000000  4084.000000  4084.000000  4084.000000  \n",
              "mean      1.669687     1.575906     1.097209     1.556807  \n",
              "std       0.930003     0.909238     0.675742     0.922389  \n",
              "min       0.000000     0.000000     0.000000     0.000000  \n",
              "25%       1.000000     1.000000     1.000000     1.000000  \n",
              "50%       2.000000     1.000000     1.000000     2.000000  \n",
              "75%       2.000000     2.000000     1.000000     2.000000  \n",
              "max       3.000000     3.000000     3.000000     3.000000  "
            ],
            "text/html": [
              "\n",
              "  <div id=\"df-7649e42e-ce65-46b4-aa7d-cf7e46e85940\" class=\"colab-df-container\">\n",
              "    <div>\n",
              "<style scoped>\n",
              "    .dataframe tbody tr th:only-of-type {\n",
              "        vertical-align: middle;\n",
              "    }\n",
              "\n",
              "    .dataframe tbody tr th {\n",
              "        vertical-align: top;\n",
              "    }\n",
              "\n",
              "    .dataframe thead th {\n",
              "        text-align: right;\n",
              "    }\n",
              "</style>\n",
              "<table border=\"1\" class=\"dataframe\">\n",
              "  <thead>\n",
              "    <tr style=\"text-align: right;\">\n",
              "      <th></th>\n",
              "      <th>Date</th>\n",
              "      <th>Rate</th>\n",
              "      <th>Votes</th>\n",
              "      <th>Duration</th>\n",
              "      <th>Nudity</th>\n",
              "      <th>Violence</th>\n",
              "      <th>Profanity</th>\n",
              "      <th>Alcohol</th>\n",
              "      <th>Frightening</th>\n",
              "    </tr>\n",
              "  </thead>\n",
              "  <tbody>\n",
              "    <tr>\n",
              "      <th>count</th>\n",
              "      <td>4084.000000</td>\n",
              "      <td>4084.000000</td>\n",
              "      <td>4.084000e+03</td>\n",
              "      <td>4084.000000</td>\n",
              "      <td>4084.000000</td>\n",
              "      <td>4084.000000</td>\n",
              "      <td>4084.000000</td>\n",
              "      <td>4084.000000</td>\n",
              "      <td>4084.000000</td>\n",
              "    </tr>\n",
              "    <tr>\n",
              "      <th>mean</th>\n",
              "      <td>2005.601126</td>\n",
              "      <td>2.835700</td>\n",
              "      <td>1.584419e+05</td>\n",
              "      <td>110.615573</td>\n",
              "      <td>1.083986</td>\n",
              "      <td>1.669687</td>\n",
              "      <td>1.575906</td>\n",
              "      <td>1.097209</td>\n",
              "      <td>1.556807</td>\n",
              "    </tr>\n",
              "    <tr>\n",
              "      <th>std</th>\n",
              "      <td>14.625199</td>\n",
              "      <td>0.566593</td>\n",
              "      <td>2.144436e+05</td>\n",
              "      <td>20.807048</td>\n",
              "      <td>0.874460</td>\n",
              "      <td>0.930003</td>\n",
              "      <td>0.909238</td>\n",
              "      <td>0.675742</td>\n",
              "      <td>0.922389</td>\n",
              "    </tr>\n",
              "    <tr>\n",
              "      <th>min</th>\n",
              "      <td>1932.000000</td>\n",
              "      <td>1.000000</td>\n",
              "      <td>5.200000e+01</td>\n",
              "      <td>2.000000</td>\n",
              "      <td>0.000000</td>\n",
              "      <td>0.000000</td>\n",
              "      <td>0.000000</td>\n",
              "      <td>0.000000</td>\n",
              "      <td>0.000000</td>\n",
              "    </tr>\n",
              "    <tr>\n",
              "      <th>25%</th>\n",
              "      <td>1998.000000</td>\n",
              "      <td>3.000000</td>\n",
              "      <td>3.385175e+04</td>\n",
              "      <td>96.000000</td>\n",
              "      <td>0.000000</td>\n",
              "      <td>1.000000</td>\n",
              "      <td>1.000000</td>\n",
              "      <td>1.000000</td>\n",
              "      <td>1.000000</td>\n",
              "    </tr>\n",
              "    <tr>\n",
              "      <th>50%</th>\n",
              "      <td>2009.000000</td>\n",
              "      <td>3.000000</td>\n",
              "      <td>9.072300e+04</td>\n",
              "      <td>108.000000</td>\n",
              "      <td>1.000000</td>\n",
              "      <td>2.000000</td>\n",
              "      <td>1.000000</td>\n",
              "      <td>1.000000</td>\n",
              "      <td>2.000000</td>\n",
              "    </tr>\n",
              "    <tr>\n",
              "      <th>75%</th>\n",
              "      <td>2017.000000</td>\n",
              "      <td>3.000000</td>\n",
              "      <td>1.967550e+05</td>\n",
              "      <td>121.000000</td>\n",
              "      <td>2.000000</td>\n",
              "      <td>2.000000</td>\n",
              "      <td>2.000000</td>\n",
              "      <td>1.000000</td>\n",
              "      <td>2.000000</td>\n",
              "    </tr>\n",
              "    <tr>\n",
              "      <th>max</th>\n",
              "      <td>2021.000000</td>\n",
              "      <td>4.000000</td>\n",
              "      <td>2.474122e+06</td>\n",
              "      <td>242.000000</td>\n",
              "      <td>3.000000</td>\n",
              "      <td>3.000000</td>\n",
              "      <td>3.000000</td>\n",
              "      <td>3.000000</td>\n",
              "      <td>3.000000</td>\n",
              "    </tr>\n",
              "  </tbody>\n",
              "</table>\n",
              "</div>\n",
              "    <div class=\"colab-df-buttons\">\n",
              "\n",
              "  <div class=\"colab-df-container\">\n",
              "    <button class=\"colab-df-convert\" onclick=\"convertToInteractive('df-7649e42e-ce65-46b4-aa7d-cf7e46e85940')\"\n",
              "            title=\"Convert this dataframe to an interactive table.\"\n",
              "            style=\"display:none;\">\n",
              "\n",
              "  <svg xmlns=\"http://www.w3.org/2000/svg\" height=\"24px\" viewBox=\"0 -960 960 960\">\n",
              "    <path d=\"M120-120v-720h720v720H120Zm60-500h600v-160H180v160Zm220 220h160v-160H400v160Zm0 220h160v-160H400v160ZM180-400h160v-160H180v160Zm440 0h160v-160H620v160ZM180-180h160v-160H180v160Zm440 0h160v-160H620v160Z\"/>\n",
              "  </svg>\n",
              "    </button>\n",
              "\n",
              "  <style>\n",
              "    .colab-df-container {\n",
              "      display:flex;\n",
              "      gap: 12px;\n",
              "    }\n",
              "\n",
              "    .colab-df-convert {\n",
              "      background-color: #E8F0FE;\n",
              "      border: none;\n",
              "      border-radius: 50%;\n",
              "      cursor: pointer;\n",
              "      display: none;\n",
              "      fill: #1967D2;\n",
              "      height: 32px;\n",
              "      padding: 0 0 0 0;\n",
              "      width: 32px;\n",
              "    }\n",
              "\n",
              "    .colab-df-convert:hover {\n",
              "      background-color: #E2EBFA;\n",
              "      box-shadow: 0px 1px 2px rgba(60, 64, 67, 0.3), 0px 1px 3px 1px rgba(60, 64, 67, 0.15);\n",
              "      fill: #174EA6;\n",
              "    }\n",
              "\n",
              "    .colab-df-buttons div {\n",
              "      margin-bottom: 4px;\n",
              "    }\n",
              "\n",
              "    [theme=dark] .colab-df-convert {\n",
              "      background-color: #3B4455;\n",
              "      fill: #D2E3FC;\n",
              "    }\n",
              "\n",
              "    [theme=dark] .colab-df-convert:hover {\n",
              "      background-color: #434B5C;\n",
              "      box-shadow: 0px 1px 3px 1px rgba(0, 0, 0, 0.15);\n",
              "      filter: drop-shadow(0px 1px 2px rgba(0, 0, 0, 0.3));\n",
              "      fill: #FFFFFF;\n",
              "    }\n",
              "  </style>\n",
              "\n",
              "    <script>\n",
              "      const buttonEl =\n",
              "        document.querySelector('#df-7649e42e-ce65-46b4-aa7d-cf7e46e85940 button.colab-df-convert');\n",
              "      buttonEl.style.display =\n",
              "        google.colab.kernel.accessAllowed ? 'block' : 'none';\n",
              "\n",
              "      async function convertToInteractive(key) {\n",
              "        const element = document.querySelector('#df-7649e42e-ce65-46b4-aa7d-cf7e46e85940');\n",
              "        const dataTable =\n",
              "          await google.colab.kernel.invokeFunction('convertToInteractive',\n",
              "                                                    [key], {});\n",
              "        if (!dataTable) return;\n",
              "\n",
              "        const docLinkHtml = 'Like what you see? Visit the ' +\n",
              "          '<a target=\"_blank\" href=https://colab.research.google.com/notebooks/data_table.ipynb>data table notebook</a>'\n",
              "          + ' to learn more about interactive tables.';\n",
              "        element.innerHTML = '';\n",
              "        dataTable['output_type'] = 'display_data';\n",
              "        await google.colab.output.renderOutput(dataTable, element);\n",
              "        const docLink = document.createElement('div');\n",
              "        docLink.innerHTML = docLinkHtml;\n",
              "        element.appendChild(docLink);\n",
              "      }\n",
              "    </script>\n",
              "  </div>\n",
              "\n",
              "\n",
              "<div id=\"df-4fd435ec-3016-4ce6-980b-1025f2e44d41\">\n",
              "  <button class=\"colab-df-quickchart\" onclick=\"quickchart('df-4fd435ec-3016-4ce6-980b-1025f2e44d41')\"\n",
              "            title=\"Suggest charts\"\n",
              "            style=\"display:none;\">\n",
              "\n",
              "<svg xmlns=\"http://www.w3.org/2000/svg\" height=\"24px\"viewBox=\"0 0 24 24\"\n",
              "     width=\"24px\">\n",
              "    <g>\n",
              "        <path d=\"M19 3H5c-1.1 0-2 .9-2 2v14c0 1.1.9 2 2 2h14c1.1 0 2-.9 2-2V5c0-1.1-.9-2-2-2zM9 17H7v-7h2v7zm4 0h-2V7h2v10zm4 0h-2v-4h2v4z\"/>\n",
              "    </g>\n",
              "</svg>\n",
              "  </button>\n",
              "\n",
              "<style>\n",
              "  .colab-df-quickchart {\n",
              "      --bg-color: #E8F0FE;\n",
              "      --fill-color: #1967D2;\n",
              "      --hover-bg-color: #E2EBFA;\n",
              "      --hover-fill-color: #174EA6;\n",
              "      --disabled-fill-color: #AAA;\n",
              "      --disabled-bg-color: #DDD;\n",
              "  }\n",
              "\n",
              "  [theme=dark] .colab-df-quickchart {\n",
              "      --bg-color: #3B4455;\n",
              "      --fill-color: #D2E3FC;\n",
              "      --hover-bg-color: #434B5C;\n",
              "      --hover-fill-color: #FFFFFF;\n",
              "      --disabled-bg-color: #3B4455;\n",
              "      --disabled-fill-color: #666;\n",
              "  }\n",
              "\n",
              "  .colab-df-quickchart {\n",
              "    background-color: var(--bg-color);\n",
              "    border: none;\n",
              "    border-radius: 50%;\n",
              "    cursor: pointer;\n",
              "    display: none;\n",
              "    fill: var(--fill-color);\n",
              "    height: 32px;\n",
              "    padding: 0;\n",
              "    width: 32px;\n",
              "  }\n",
              "\n",
              "  .colab-df-quickchart:hover {\n",
              "    background-color: var(--hover-bg-color);\n",
              "    box-shadow: 0 1px 2px rgba(60, 64, 67, 0.3), 0 1px 3px 1px rgba(60, 64, 67, 0.15);\n",
              "    fill: var(--button-hover-fill-color);\n",
              "  }\n",
              "\n",
              "  .colab-df-quickchart-complete:disabled,\n",
              "  .colab-df-quickchart-complete:disabled:hover {\n",
              "    background-color: var(--disabled-bg-color);\n",
              "    fill: var(--disabled-fill-color);\n",
              "    box-shadow: none;\n",
              "  }\n",
              "\n",
              "  .colab-df-spinner {\n",
              "    border: 2px solid var(--fill-color);\n",
              "    border-color: transparent;\n",
              "    border-bottom-color: var(--fill-color);\n",
              "    animation:\n",
              "      spin 1s steps(1) infinite;\n",
              "  }\n",
              "\n",
              "  @keyframes spin {\n",
              "    0% {\n",
              "      border-color: transparent;\n",
              "      border-bottom-color: var(--fill-color);\n",
              "      border-left-color: var(--fill-color);\n",
              "    }\n",
              "    20% {\n",
              "      border-color: transparent;\n",
              "      border-left-color: var(--fill-color);\n",
              "      border-top-color: var(--fill-color);\n",
              "    }\n",
              "    30% {\n",
              "      border-color: transparent;\n",
              "      border-left-color: var(--fill-color);\n",
              "      border-top-color: var(--fill-color);\n",
              "      border-right-color: var(--fill-color);\n",
              "    }\n",
              "    40% {\n",
              "      border-color: transparent;\n",
              "      border-right-color: var(--fill-color);\n",
              "      border-top-color: var(--fill-color);\n",
              "    }\n",
              "    60% {\n",
              "      border-color: transparent;\n",
              "      border-right-color: var(--fill-color);\n",
              "    }\n",
              "    80% {\n",
              "      border-color: transparent;\n",
              "      border-right-color: var(--fill-color);\n",
              "      border-bottom-color: var(--fill-color);\n",
              "    }\n",
              "    90% {\n",
              "      border-color: transparent;\n",
              "      border-bottom-color: var(--fill-color);\n",
              "    }\n",
              "  }\n",
              "</style>\n",
              "\n",
              "  <script>\n",
              "    async function quickchart(key) {\n",
              "      const quickchartButtonEl =\n",
              "        document.querySelector('#' + key + ' button');\n",
              "      quickchartButtonEl.disabled = true;  // To prevent multiple clicks.\n",
              "      quickchartButtonEl.classList.add('colab-df-spinner');\n",
              "      try {\n",
              "        const charts = await google.colab.kernel.invokeFunction(\n",
              "            'suggestCharts', [key], {});\n",
              "      } catch (error) {\n",
              "        console.error('Error during call to suggestCharts:', error);\n",
              "      }\n",
              "      quickchartButtonEl.classList.remove('colab-df-spinner');\n",
              "      quickchartButtonEl.classList.add('colab-df-quickchart-complete');\n",
              "    }\n",
              "    (() => {\n",
              "      let quickchartButtonEl =\n",
              "        document.querySelector('#df-4fd435ec-3016-4ce6-980b-1025f2e44d41 button');\n",
              "      quickchartButtonEl.style.display =\n",
              "        google.colab.kernel.accessAllowed ? 'block' : 'none';\n",
              "    })();\n",
              "  </script>\n",
              "</div>\n",
              "    </div>\n",
              "  </div>\n"
            ]
          },
          "metadata": {},
          "execution_count": 43
        }
      ]
    },
    {
      "cell_type": "markdown",
      "source": [
        "Количественные признаки:\n",
        "1. Date - Год выпуска. Первый фильм (сериал) в наборе данных выпущен в 2005 году, последний - в 2023\n",
        "2. Rate - Рейтинг. Минимальный - 1, максимальный - 4\n",
        "3. Votes - Количество оценок. Минимальное - 125 222, максимальное - 2 474 122\n",
        "4. Duration - Продолжительность. Минимальная - 94.5, максимальное - 900 (в минутах)"
      ],
      "metadata": {
        "id": "pZu4vvMXj-hJ"
      }
    },
    {
      "cell_type": "code",
      "source": [
        "# Корреляционная матрица\n",
        "corrMat = data.corr(numeric_only=True)\n",
        "sns.heatmap(corrMat, vmin=-1.0, vmax=1.0)\n",
        "\n",
        "print(\"Rate-Votes:\", corrMat[\"Rate\"][\"Votes\"])\n",
        "print(\"Duration-Votes:\", corrMat[\"Duration\"][\"Votes\"])"
      ],
      "metadata": {
        "colab": {
          "base_uri": "https://localhost:8080/",
          "height": 536
        },
        "id": "CPX8hNOHYepQ",
        "outputId": "3ae10f09-86a5-4f56-99fc-120fe2364b29"
      },
      "execution_count": 44,
      "outputs": [
        {
          "output_type": "stream",
          "name": "stdout",
          "text": [
            "Rate-Votes: 0.4445860484410097\n",
            "Duration-Votes: 0.33543686955386265\n"
          ]
        },
        {
          "output_type": "display_data",
          "data": {
            "text/plain": [
              "<Figure size 640x480 with 2 Axes>"
            ],
            "image/png": "[encoded data removed]"
          },
          "metadata": {}
        }
      ]
    },
    {
      "cell_type": "markdown",
      "source": [
        "Из матрицы понятно, что рейтинг зависит от количества оценок, а на факт оценки влияет продолжительность фильма."
      ],
      "metadata": {
        "id": "zfG0kvBKlspn"
      }
    },
    {
      "cell_type": "code",
      "source": [
        "# Диаграмма рассеивания для признаков 'Rate', 'Votes':\n",
        "plt.scatter(data['Rate'], data['Votes'], alpha=0.1)\n",
        "plt.xlabel('Rate')\n",
        "plt.ylabel('Votes')\n",
        "pass"
      ],
      "metadata": {
        "colab": {
          "base_uri": "https://localhost:8080/",
          "height": 465
        },
        "id": "vZvqGeCSWaFY",
        "outputId": "48f15fcd-02e0-424d-c751-8a958ee58a85"
      },
      "execution_count": 45,
      "outputs": [
        {
          "output_type": "display_data",
          "data": {
            "text/plain": [
              "<Figure size 640x480 with 1 Axes>"
            ],
            "image/png": "[encoded data removed]"
          },
          "metadata": {}
        }
      ]
    },
    {
      "cell_type": "markdown",
      "source": [
        "Можно заметить, что работы с низким рейтингом имеют малое количество оценок."
      ],
      "metadata": {
        "id": "UUuciRzc1C49"
      }
    },
    {
      "cell_type": "code",
      "source": [
        "# Диаграмма рассеивания для признаков 'Duration', 'Votes':\n",
        "plt.scatter(data['Duration'], data['Votes'], alpha=0.1)\n",
        "plt.xlabel('Duration')\n",
        "plt.ylabel('Votes')\n",
        "pass"
      ],
      "metadata": {
        "colab": {
          "base_uri": "https://localhost:8080/",
          "height": 465
        },
        "id": "pEtFYLDSgMNf",
        "outputId": "0368a5af-113d-4b42-80c3-f2cad36629e2"
      },
      "execution_count": 46,
      "outputs": [
        {
          "output_type": "display_data",
          "data": {
            "text/plain": [
              "<Figure size 640x480 with 1 Axes>"
            ],
            "image/png": "[encoded data removed]"
          },
          "metadata": {}
        }
      ]
    },
    {
      "cell_type": "markdown",
      "source": [
        "Здесь видно, что работы, длинной менее 70  и более 200 минут имеют малое количество оценок."
      ],
      "metadata": {
        "id": "0SsrcLJl1UGa"
      }
    },
    {
      "cell_type": "markdown",
      "source": [
        "**3. Классы**\n",
        "\n",
        "Будем классифицировать по рейтингу"
      ],
      "metadata": {
        "id": "TcYDaSxSJOJs"
      }
    },
    {
      "cell_type": "code",
      "source": [
        "import collections\n",
        "data['Rate'].value_counts().plot.pie();"
      ],
      "metadata": {
        "colab": {
          "base_uri": "https://localhost:8080/",
          "height": 406
        },
        "id": "hua1WMTqGYo8",
        "outputId": "482d7db6-f461-4bb3-e573-82e20b933fbe"
      },
      "execution_count": 47,
      "outputs": [
        {
          "output_type": "display_data",
          "data": {
            "text/plain": [
              "<Figure size 640x480 with 1 Axes>"
            ],
            "image/png": "[encoded data removed]"
          },
          "metadata": {}
        }
      ]
    },
    {
      "cell_type": "markdown",
      "source": [
        "**4. Нормализация**\n",
        "\n",
        "Нормализация позволит повысить скорость сходимости алгоритма."
      ],
      "metadata": {
        "id": "0HsebqsNBDHK"
      }
    },
    {
      "cell_type": "code",
      "source": [
        "cls = data['Rate']\n",
        "norm_columns  = ['Votes', 'Duration']\n",
        "nonnorm_columns = ['Certificate', 'Nudity', 'Violence', 'Profanity', 'Alcohol', 'Frightening']\n",
        "data_nonnorm = data[nonnorm_columns]\n",
        "\n",
        "data_norm = data[norm_columns]\n",
        "data_norm.describe()\n",
        "data_norm = (data_norm - data_norm.mean(axis = 0))/data_norm.std(axis = 0)\n",
        "data_norm.describe()\n",
        "\n",
        "data = data[numerical_columns]\n",
        "data = pd.concat((data_norm, data_nonnorm), axis = 1)\n",
        "data.head(10)"
      ],
      "metadata": {
        "colab": {
          "base_uri": "https://localhost:8080/",
          "height": 363
        },
        "id": "hNHPXKexBMf7",
        "outputId": "aeab681e-b2d3-4d66-e2c6-bc34fa60f7c3"
      },
      "execution_count": 48,
      "outputs": [
        {
          "output_type": "execute_result",
          "data": {
            "text/plain": [
              "       Votes  Duration Certificate  Nudity  Violence  Profanity  Alcohol  \\\n",
              "0  -0.239125  2.517629          12       1         2          1        1   \n",
              "1  -0.438656 -0.990798          18       0         0          3        0   \n",
              "2  -0.612268  0.451022          18       2         3          3        2   \n",
              "3  -0.596889 -0.654373          12       0         2          2        1   \n",
              "4  -0.344174  2.133144          12       0         2          0        1   \n",
              "6  -0.021483  0.210718          12       1         2          2        0   \n",
              "19  0.411115  1.123870          12       0         2          1        1   \n",
              "20 -0.708550  1.988962          18       3         3          2        1   \n",
              "22 -0.227985  1.027749          12       0         2          1        1   \n",
              "25  1.161481  1.796719          12       1         2          1        1   \n",
              "\n",
              "    Frightening  \n",
              "0             2  \n",
              "1             2  \n",
              "2             2  \n",
              "3             2  \n",
              "4             2  \n",
              "6             1  \n",
              "19            2  \n",
              "20            3  \n",
              "22            1  \n",
              "25            2  "
            ],
            "text/html": [
              "\n",
              "  <div id=\"df-5aa9d9de-7086-464b-bd96-89c1ffaaa67f\" class=\"colab-df-container\">\n",
              "    <div>\n",
              "<style scoped>\n",
              "    .dataframe tbody tr th:only-of-type {\n",
              "        vertical-align: middle;\n",
              "    }\n",
              "\n",
              "    .dataframe tbody tr th {\n",
              "        vertical-align: top;\n",
              "    }\n",
              "\n",
              "    .dataframe thead th {\n",
              "        text-align: right;\n",
              "    }\n",
              "</style>\n",
              "<table border=\"1\" class=\"dataframe\">\n",
              "  <thead>\n",
              "    <tr style=\"text-align: right;\">\n",
              "      <th></th>\n",
              "      <th>Votes</th>\n",
              "      <th>Duration</th>\n",
              "      <th>Certificate</th>\n",
              "      <th>Nudity</th>\n",
              "      <th>Violence</th>\n",
              "      <th>Profanity</th>\n",
              "      <th>Alcohol</th>\n",
              "      <th>Frightening</th>\n",
              "    </tr>\n",
              "  </thead>\n",
              "  <tbody>\n",
              "    <tr>\n",
              "      <th>0</th>\n",
              "      <td>-0.239125</td>\n",
              "      <td>2.517629</td>\n",
              "      <td>12</td>\n",
              "      <td>1</td>\n",
              "      <td>2</td>\n",
              "      <td>1</td>\n",
              "      <td>1</td>\n",
              "      <td>2</td>\n",
              "    </tr>\n",
              "    <tr>\n",
              "      <th>1</th>\n",
              "      <td>-0.438656</td>\n",
              "      <td>-0.990798</td>\n",
              "      <td>18</td>\n",
              "      <td>0</td>\n",
              "      <td>0</td>\n",
              "      <td>3</td>\n",
              "      <td>0</td>\n",
              "      <td>2</td>\n",
              "    </tr>\n",
              "    <tr>\n",
              "      <th>2</th>\n",
              "      <td>-0.612268</td>\n",
              "      <td>0.451022</td>\n",
              "      <td>18</td>\n",
              "      <td>2</td>\n",
              "      <td>3</td>\n",
              "      <td>3</td>\n",
              "      <td>2</td>\n",
              "      <td>2</td>\n",
              "    </tr>\n",
              "    <tr>\n",
              "      <th>3</th>\n",
              "      <td>-0.596889</td>\n",
              "      <td>-0.654373</td>\n",
              "      <td>12</td>\n",
              "      <td>0</td>\n",
              "      <td>2</td>\n",
              "      <td>2</td>\n",
              "      <td>1</td>\n",
              "      <td>2</td>\n",
              "    </tr>\n",
              "    <tr>\n",
              "      <th>4</th>\n",
              "      <td>-0.344174</td>\n",
              "      <td>2.133144</td>\n",
              "      <td>12</td>\n",
              "      <td>0</td>\n",
              "      <td>2</td>\n",
              "      <td>0</td>\n",
              "      <td>1</td>\n",
              "      <td>2</td>\n",
              "    </tr>\n",
              "    <tr>\n",
              "      <th>6</th>\n",
              "      <td>-0.021483</td>\n",
              "      <td>0.210718</td>\n",
              "      <td>12</td>\n",
              "      <td>1</td>\n",
              "      <td>2</td>\n",
              "      <td>2</td>\n",
              "      <td>0</td>\n",
              "      <td>1</td>\n",
              "    </tr>\n",
              "    <tr>\n",
              "      <th>19</th>\n",
              "      <td>0.411115</td>\n",
              "      <td>1.123870</td>\n",
              "      <td>12</td>\n",
              "      <td>0</td>\n",
              "      <td>2</td>\n",
              "      <td>1</td>\n",
              "      <td>1</td>\n",
              "      <td>2</td>\n",
              "    </tr>\n",
              "    <tr>\n",
              "      <th>20</th>\n",
              "      <td>-0.708550</td>\n",
              "      <td>1.988962</td>\n",
              "      <td>18</td>\n",
              "      <td>3</td>\n",
              "      <td>3</td>\n",
              "      <td>2</td>\n",
              "      <td>1</td>\n",
              "      <td>3</td>\n",
              "    </tr>\n",
              "    <tr>\n",
              "      <th>22</th>\n",
              "      <td>-0.227985</td>\n",
              "      <td>1.027749</td>\n",
              "      <td>12</td>\n",
              "      <td>0</td>\n",
              "      <td>2</td>\n",
              "      <td>1</td>\n",
              "      <td>1</td>\n",
              "      <td>1</td>\n",
              "    </tr>\n",
              "    <tr>\n",
              "      <th>25</th>\n",
              "      <td>1.161481</td>\n",
              "      <td>1.796719</td>\n",
              "      <td>12</td>\n",
              "      <td>1</td>\n",
              "      <td>2</td>\n",
              "      <td>1</td>\n",
              "      <td>1</td>\n",
              "      <td>2</td>\n",
              "    </tr>\n",
              "  </tbody>\n",
              "</table>\n",
              "</div>\n",
              "    <div class=\"colab-df-buttons\">\n",
              "\n",
              "  <div class=\"colab-df-container\">\n",
              "    <button class=\"colab-df-convert\" onclick=\"convertToInteractive('df-5aa9d9de-7086-464b-bd96-89c1ffaaa67f')\"\n",
              "            title=\"Convert this dataframe to an interactive table.\"\n",
              "            style=\"display:none;\">\n",
              "\n",
              "  <svg xmlns=\"http://www.w3.org/2000/svg\" height=\"24px\" viewBox=\"0 -960 960 960\">\n",
              "    <path d=\"M120-120v-720h720v720H120Zm60-500h600v-160H180v160Zm220 220h160v-160H400v160Zm0 220h160v-160H400v160ZM180-400h160v-160H180v160Zm440 0h160v-160H620v160ZM180-180h160v-160H180v160Zm440 0h160v-160H620v160Z\"/>\n",
              "  </svg>\n",
              "    </button>\n",
              "\n",
              "  <style>\n",
              "    .colab-df-container {\n",
              "      display:flex;\n",
              "      gap: 12px;\n",
              "    }\n",
              "\n",
              "    .colab-df-convert {\n",
              "      background-color: #E8F0FE;\n",
              "      border: none;\n",
              "      border-radius: 50%;\n",
              "      cursor: pointer;\n",
              "      display: none;\n",
              "      fill: #1967D2;\n",
              "      height: 32px;\n",
              "      padding: 0 0 0 0;\n",
              "      width: 32px;\n",
              "    }\n",
              "\n",
              "    .colab-df-convert:hover {\n",
              "      background-color: #E2EBFA;\n",
              "      box-shadow: 0px 1px 2px rgba(60, 64, 67, 0.3), 0px 1px 3px 1px rgba(60, 64, 67, 0.15);\n",
              "      fill: #174EA6;\n",
              "    }\n",
              "\n",
              "    .colab-df-buttons div {\n",
              "      margin-bottom: 4px;\n",
              "    }\n",
              "\n",
              "    [theme=dark] .colab-df-convert {\n",
              "      background-color: #3B4455;\n",
              "      fill: #D2E3FC;\n",
              "    }\n",
              "\n",
              "    [theme=dark] .colab-df-convert:hover {\n",
              "      background-color: #434B5C;\n",
              "      box-shadow: 0px 1px 3px 1px rgba(0, 0, 0, 0.15);\n",
              "      filter: drop-shadow(0px 1px 2px rgba(0, 0, 0, 0.3));\n",
              "      fill: #FFFFFF;\n",
              "    }\n",
              "  </style>\n",
              "\n",
              "    <script>\n",
              "      const buttonEl =\n",
              "        document.querySelector('#df-5aa9d9de-7086-464b-bd96-89c1ffaaa67f button.colab-df-convert');\n",
              "      buttonEl.style.display =\n",
              "        google.colab.kernel.accessAllowed ? 'block' : 'none';\n",
              "\n",
              "      async function convertToInteractive(key) {\n",
              "        const element = document.querySelector('#df-5aa9d9de-7086-464b-bd96-89c1ffaaa67f');\n",
              "        const dataTable =\n",
              "          await google.colab.kernel.invokeFunction('convertToInteractive',\n",
              "                                                    [key], {});\n",
              "        if (!dataTable) return;\n",
              "\n",
              "        const docLinkHtml = 'Like what you see? Visit the ' +\n",
              "          '<a target=\"_blank\" href=https://colab.research.google.com/notebooks/data_table.ipynb>data table notebook</a>'\n",
              "          + ' to learn more about interactive tables.';\n",
              "        element.innerHTML = '';\n",
              "        dataTable['output_type'] = 'display_data';\n",
              "        await google.colab.output.renderOutput(dataTable, element);\n",
              "        const docLink = document.createElement('div');\n",
              "        docLink.innerHTML = docLinkHtml;\n",
              "        element.appendChild(docLink);\n",
              "      }\n",
              "    </script>\n",
              "  </div>\n",
              "\n",
              "\n",
              "<div id=\"df-37e0ab35-b602-4b31-a5d8-79544c5e1fef\">\n",
              "  <button class=\"colab-df-quickchart\" onclick=\"quickchart('df-37e0ab35-b602-4b31-a5d8-79544c5e1fef')\"\n",
              "            title=\"Suggest charts\"\n",
              "            style=\"display:none;\">\n",
              "\n",
              "<svg xmlns=\"http://www.w3.org/2000/svg\" height=\"24px\"viewBox=\"0 0 24 24\"\n",
              "     width=\"24px\">\n",
              "    <g>\n",
              "        <path d=\"M19 3H5c-1.1 0-2 .9-2 2v14c0 1.1.9 2 2 2h14c1.1 0 2-.9 2-2V5c0-1.1-.9-2-2-2zM9 17H7v-7h2v7zm4 0h-2V7h2v10zm4 0h-2v-4h2v4z\"/>\n",
              "    </g>\n",
              "</svg>\n",
              "  </button>\n",
              "\n",
              "<style>\n",
              "  .colab-df-quickchart {\n",
              "      --bg-color: #E8F0FE;\n",
              "      --fill-color: #1967D2;\n",
              "      --hover-bg-color: #E2EBFA;\n",
              "      --hover-fill-color: #174EA6;\n",
              "      --disabled-fill-color: #AAA;\n",
              "      --disabled-bg-color: #DDD;\n",
              "  }\n",
              "\n",
              "  [theme=dark] .colab-df-quickchart {\n",
              "      --bg-color: #3B4455;\n",
              "      --fill-color: #D2E3FC;\n",
              "      --hover-bg-color: #434B5C;\n",
              "      --hover-fill-color: #FFFFFF;\n",
              "      --disabled-bg-color: #3B4455;\n",
              "      --disabled-fill-color: #666;\n",
              "  }\n",
              "\n",
              "  .colab-df-quickchart {\n",
              "    background-color: var(--bg-color);\n",
              "    border: none;\n",
              "    border-radius: 50%;\n",
              "    cursor: pointer;\n",
              "    display: none;\n",
              "    fill: var(--fill-color);\n",
              "    height: 32px;\n",
              "    padding: 0;\n",
              "    width: 32px;\n",
              "  }\n",
              "\n",
              "  .colab-df-quickchart:hover {\n",
              "    background-color: var(--hover-bg-color);\n",
              "    box-shadow: 0 1px 2px rgba(60, 64, 67, 0.3), 0 1px 3px 1px rgba(60, 64, 67, 0.15);\n",
              "    fill: var(--button-hover-fill-color);\n",
              "  }\n",
              "\n",
              "  .colab-df-quickchart-complete:disabled,\n",
              "  .colab-df-quickchart-complete:disabled:hover {\n",
              "    background-color: var(--disabled-bg-color);\n",
              "    fill: var(--disabled-fill-color);\n",
              "    box-shadow: none;\n",
              "  }\n",
              "\n",
              "  .colab-df-spinner {\n",
              "    border: 2px solid var(--fill-color);\n",
              "    border-color: transparent;\n",
              "    border-bottom-color: var(--fill-color);\n",
              "    animation:\n",
              "      spin 1s steps(1) infinite;\n",
              "  }\n",
              "\n",
              "  @keyframes spin {\n",
              "    0% {\n",
              "      border-color: transparent;\n",
              "      border-bottom-color: var(--fill-color);\n",
              "      border-left-color: var(--fill-color);\n",
              "    }\n",
              "    20% {\n",
              "      border-color: transparent;\n",
              "      border-left-color: var(--fill-color);\n",
              "      border-top-color: var(--fill-color);\n",
              "    }\n",
              "    30% {\n",
              "      border-color: transparent;\n",
              "      border-left-color: var(--fill-color);\n",
              "      border-top-color: var(--fill-color);\n",
              "      border-right-color: var(--fill-color);\n",
              "    }\n",
              "    40% {\n",
              "      border-color: transparent;\n",
              "      border-right-color: var(--fill-color);\n",
              "      border-top-color: var(--fill-color);\n",
              "    }\n",
              "    60% {\n",
              "      border-color: transparent;\n",
              "      border-right-color: var(--fill-color);\n",
              "    }\n",
              "    80% {\n",
              "      border-color: transparent;\n",
              "      border-right-color: var(--fill-color);\n",
              "      border-bottom-color: var(--fill-color);\n",
              "    }\n",
              "    90% {\n",
              "      border-color: transparent;\n",
              "      border-bottom-color: var(--fill-color);\n",
              "    }\n",
              "  }\n",
              "</style>\n",
              "\n",
              "  <script>\n",
              "    async function quickchart(key) {\n",
              "      const quickchartButtonEl =\n",
              "        document.querySelector('#' + key + ' button');\n",
              "      quickchartButtonEl.disabled = true;  // To prevent multiple clicks.\n",
              "      quickchartButtonEl.classList.add('colab-df-spinner');\n",
              "      try {\n",
              "        const charts = await google.colab.kernel.invokeFunction(\n",
              "            'suggestCharts', [key], {});\n",
              "      } catch (error) {\n",
              "        console.error('Error during call to suggestCharts:', error);\n",
              "      }\n",
              "      quickchartButtonEl.classList.remove('colab-df-spinner');\n",
              "      quickchartButtonEl.classList.add('colab-df-quickchart-complete');\n",
              "    }\n",
              "    (() => {\n",
              "      let quickchartButtonEl =\n",
              "        document.querySelector('#df-37e0ab35-b602-4b31-a5d8-79544c5e1fef button');\n",
              "      quickchartButtonEl.style.display =\n",
              "        google.colab.kernel.accessAllowed ? 'block' : 'none';\n",
              "    })();\n",
              "  </script>\n",
              "</div>\n",
              "    </div>\n",
              "  </div>\n"
            ]
          },
          "metadata": {},
          "execution_count": 48
        }
      ]
    },
    {
      "cell_type": "markdown",
      "source": [
        "**5. Выборки**"
      ],
      "metadata": {
        "id": "pYAcNRwlNCzG"
      }
    },
    {
      "cell_type": "code",
      "source": [
        "from sklearn.model_selection import train_test_split\n",
        "\n",
        "X_train, X_test, Y_train, Y_test = train_test_split(\n",
        "    data, cls, test_size = 0.3, random_state = 10)\n",
        "\n",
        "print(\"Train:\", X_train.shape)\n",
        "print(\"Test:\", X_test.shape)"
      ],
      "metadata": {
        "colab": {
          "base_uri": "https://localhost:8080/"
        },
        "id": "krBPw1ReLD2G",
        "outputId": "9d8def44-4f88-43fa-8eca-618dddd08695"
      },
      "execution_count": 49,
      "outputs": [
        {
          "output_type": "stream",
          "name": "stdout",
          "text": [
            "Train: (2858, 8)\n",
            "Test: (1226, 8)\n"
          ]
        }
      ]
    },
    {
      "cell_type": "markdown",
      "source": [
        "**6. Классификатор ближайших соседей**\n",
        "\n"
      ],
      "metadata": {
        "id": "cUJ4p-fxN9Ko"
      }
    },
    {
      "cell_type": "code",
      "source": [
        "%%time\n",
        "from sklearn.model_selection import GridSearchCV\n",
        "from sklearn import neighbors\n",
        "nnb = [5, 10, 15, 20]\n",
        "knn = neighbors.KNeighborsClassifier()\n",
        "grid = GridSearchCV(knn, param_grid = {'n_neighbors': nnb}, cv=10)\n",
        "grid.fit(X_train, Y_train)\n",
        "\n",
        "best_cv_err = 1 - grid.best_score_\n",
        "best_n_neighbors = grid.best_estimator_.n_neighbors\n",
        "print(\"Оптимальное кол-во соседей - \", best_n_neighbors)\n",
        "\n",
        "knn = neighbors.KNeighborsClassifier(n_neighbors = best_n_neighbors).fit(X_train, Y_train)\n",
        "\n",
        "err_train = np.mean(Y_train != knn.predict(X_train))\n",
        "err_test  = np.mean(Y_test  != knn.predict(X_test))\n",
        "\n",
        "print(\"Ошибка на тренировочном наборе - \", err_train)\n",
        "print(\"Ошибка на тестовом наборе - \", err_test)"
      ],
      "metadata": {
        "colab": {
          "base_uri": "https://localhost:8080/"
        },
        "id": "xb5b6jgTOdLW",
        "outputId": "59dc3fa5-4e5f-4623-c0d8-e69a191d8d0f"
      },
      "execution_count": 50,
      "outputs": [
        {
          "output_type": "stream",
          "name": "stdout",
          "text": [
            "Оптимальное кол-во соседей -  20\n",
            "Ошибка на тренировочном наборе -  0.25087473757872636\n",
            "Ошибка на тестовом наборе -  0.2830342577487765\n",
            "CPU times: user 1.53 s, sys: 41.1 ms, total: 1.57 s\n",
            "Wall time: 1.56 s\n"
          ]
        }
      ]
    },
    {
      "cell_type": "markdown",
      "source": [
        "**7. SVC**\n",
        "\n"
      ],
      "metadata": {
        "id": "c88O1notkYaj"
      }
    },
    {
      "cell_type": "code",
      "source": [
        "%%time\n",
        "from sklearn.svm import SVC\n",
        "from sklearn.model_selection import GridSearchCV\n",
        "Cs = 10.**np.arange(-5, 5)\n",
        "gamma_array = 10.**np.arange(-5, 5)\n",
        "svc = SVC(gamma='auto')\n",
        "grid = GridSearchCV(svc, cv=3, param_grid = {'C': Cs, 'gamma': gamma_array})\n",
        "grid.fit(X_train, Y_train)\n",
        "\n",
        "best_cv_err = 1 - grid.best_score_\n",
        "best_C = grid.best_estimator_.C\n",
        "print(best_cv_err, best_C)"
      ],
      "metadata": {
        "colab": {
          "base_uri": "https://localhost:8080/"
        },
        "id": "Ktf4qHEWO_BP",
        "outputId": "03d374eb-e966-447d-a1ea-5a5aecb92bd0"
      },
      "execution_count": 51,
      "outputs": [
        {
          "output_type": "stream",
          "name": "stdout",
          "text": [
            "0.23722815464065994 100.0\n",
            "CPU times: user 2min 5s, sys: 0 ns, total: 2min 5s\n",
            "Wall time: 2min 6s\n"
          ]
        }
      ]
    },
    {
      "cell_type": "markdown",
      "source": [
        "**8. Выводы**\n",
        "\n",
        "В процессе выполнения работы были прочитаны и подготовлены данные (удаление, преобразование, изменение). В итоге было исключено 2094 строки.\n",
        "\n",
        "После изучения корреляционной матрицы были получены данные о зависимости столбцов. Рейтинг (Rate) зависит от количества оценок (Votes), а на факт оценки влияет продолжительность фильма (Duration). Также наблюдается закономерность - чем выше рейтинг фильма, тем больше он имеет оценок.\n",
        "\n",
        "Перед применением алгоритмов, для удобства, данные были разбиты на 4 класса рейтинга.\n",
        "Классификатор ближайших соседей показал ошибку на тестовом наборе 0.28 (Время - 2.1 сек).\n",
        "SVC показал ошибку 0.24, но при этом затраты времени превышают прошлый алгоритм - 2 минуты 28 сек.\n",
        "\n",
        "\n"
      ],
      "metadata": {
        "id": "pk5gpVh_kRnR"
      }
    },
    {
      "cell_type": "markdown",
      "source": [
        "**К 28.12**\n",
        "\n",
        "**Логистическая регрессия с подбором параметра**"
      ],
      "metadata": {
        "id": "2Wao9hi2Izb5"
      }
    },
    {
      "cell_type": "code",
      "source": [
        "from sklearn.linear_model import LogisticRegression\n",
        "\n",
        "# lr_error = 1\n",
        "# iter = 10\n",
        "# for i in range(10, 150):\n",
        "#   lr_model = LogisticRegression(max_iter=i)\n",
        "#   lr_model.fit(X_train, Y_train)\n",
        "#   error = 1 - lr_model.score(X_test, Y_test)\n",
        "#   if lr_error > error:\n",
        "#     lr_error = error\n",
        "#     iter = i\n",
        "# print(\"Error: \", lr_error)  # 0.2805\n",
        "# print(\"Iter: \", iter)       # 73\n",
        "\n",
        "\n",
        "lr_model = LogisticRegression(max_iter=73)\n",
        "lr_model.fit(X_train, Y_train)\n",
        "lr_error = 1 - lr_model.score(X_test, Y_test)\n",
        "print(\"Error: \", lr_error)"
      ],
      "metadata": {
        "colab": {
          "base_uri": "https://localhost:8080/"
        },
        "id": "na_5-AnNI3yh",
        "outputId": "d3a09311-4ad4-40f9-ed67-4e9625dd82a1"
      },
      "execution_count": 52,
      "outputs": [
        {
          "output_type": "stream",
          "name": "stdout",
          "text": [
            "Error:  0.28058727569331154\n"
          ]
        },
        {
          "output_type": "stream",
          "name": "stderr",
          "text": [
            "/usr/local/lib/python3.10/dist-packages/sklearn/linear_model/_logistic.py:458: ConvergenceWarning: lbfgs failed to converge (status=1):\n",
            "STOP: TOTAL NO. of ITERATIONS REACHED LIMIT.\n",
            "\n",
            "Increase the number of iterations (max_iter) or scale the data as shown in:\n",
            "    https://scikit-learn.org/stable/modules/preprocessing.html\n",
            "Please also refer to the documentation for alternative solver options:\n",
            "    https://scikit-learn.org/stable/modules/linear_model.html#logistic-regression\n",
            "  n_iter_i = _check_optimize_result(\n"
          ]
        }
      ]
    },
    {
      "cell_type": "markdown",
      "source": [
        "**RandomForest с подбором параметра**"
      ],
      "metadata": {
        "id": "4Nrfl97SNw6H"
      }
    },
    {
      "cell_type": "code",
      "source": [
        "from sklearn import ensemble\n",
        "\n",
        "rf_error = 1\n",
        "param = 2\n",
        "for i in range(2, 50):\n",
        "  rf_model = ensemble.RandomForestClassifier(n_estimators = i)\n",
        "  rf_model.fit(X_train, Y_train)\n",
        "  error = 1 - rf_model.score(X_test, Y_test)\n",
        "  if rf_error > error:\n",
        "    rf_error = error\n",
        "    param = i\n",
        "\n",
        "print(\"Error: \", rf_error)\n",
        "print(\"Iter: \", param)"
      ],
      "metadata": {
        "colab": {
          "base_uri": "https://localhost:8080/"
        },
        "id": "-CdwH_i2MXDq",
        "outputId": "eb874c73-5bef-4971-9e67-481bb05d328a"
      },
      "execution_count": 53,
      "outputs": [
        {
          "output_type": "stream",
          "name": "stdout",
          "text": [
            "Error:  0.19249592169657426\n",
            "Iter:  27\n"
          ]
        }
      ]
    },
    {
      "cell_type": "markdown",
      "source": [
        "**Полносвязная нейронная сеть**\n",
        "\n",
        "Подбор параметра alpha"
      ],
      "metadata": {
        "id": "ux2z1MQbOZn7"
      }
    },
    {
      "cell_type": "code",
      "source": [
        "from sklearn.metrics import accuracy_score\n",
        "from sklearn.neural_network import MLPClassifier\n",
        "\n",
        "alpha_arr = np.logspace(-5, 2, 50)\n",
        "test_err = []\n",
        "train_err = []\n",
        "train_acc = []\n",
        "test_acc = []\n",
        "\n",
        "for alpha in alpha_arr:\n",
        "    mlp_model = MLPClassifier(alpha = alpha, hidden_layer_sizes = (100,),\n",
        "                              solver = 'lbfgs', activation = 'logistic', max_iter=500, random_state = 42)\n",
        "    mlp_model.fit(X_train, Y_train)\n",
        "\n",
        "    y_train_pred = mlp_model.predict(X_train)\n",
        "    y_test_pred = mlp_model.predict(X_test)\n",
        "\n",
        "    train_err.append(np.mean(Y_train != y_train_pred))\n",
        "    test_err.append(np.mean(Y_test != y_test_pred))\n",
        "    train_acc.append(accuracy_score(Y_train, y_train_pred))\n",
        "    test_acc.append(accuracy_score(Y_test, y_test_pred))"
      ],
      "metadata": {
        "id": "aePae53aawXo"
      },
      "execution_count": null,
      "outputs": []
    },
    {
      "cell_type": "markdown",
      "source": [
        "Построим график зависимости ошибки от параметра альфа"
      ],
      "metadata": {
        "id": "lIXLEa3gR6xW"
      }
    },
    {
      "cell_type": "code",
      "source": [
        "plt.semilogx(alpha_arr, train_err, 'b-o', label = 'train')\n",
        "plt.semilogx(alpha_arr, test_err, 'r-o', label = 'test')\n",
        "plt.xlim([np.min(alpha_arr), np.max(alpha_arr)])\n",
        "plt.title('Error vs. alpha')\n",
        "plt.xlabel('alpha')\n",
        "plt.ylabel('error')\n",
        "plt.legend()"
      ],
      "metadata": {
        "id": "PGVgW5QgYmYz",
        "colab": {
          "base_uri": "https://localhost:8080/",
          "height": 494
        },
        "outputId": "100f68e4-fcdd-4ab2-d410-4e0dcbc399e4"
      },
      "execution_count": 55,
      "outputs": [
        {
          "output_type": "execute_result",
          "data": {
            "text/plain": [
              "<matplotlib.legend.Legend at 0x79511f2b7310>"
            ]
          },
          "metadata": {},
          "execution_count": 55
        },
        {
          "output_type": "display_data",
          "data": {
            "text/plain": [
              "<Figure size 640x480 with 1 Axes>"
            ],
            "image/png": "[encoded data removed]"
          },
          "metadata": {}
        }
      ]
    },
    {
      "cell_type": "markdown",
      "source": [
        "Полученные результаты"
      ],
      "metadata": {
        "id": "Nq7EF7YtdSSp"
      }
    },
    {
      "cell_type": "code",
      "source": [
        "min_train_err = np.min(train_err)\n",
        "min_test_err = np.min(test_err)\n",
        "alpha_opt = alpha_arr[test_err == min_test_err]\n",
        "alpha_opt = alpha_opt[0]\n",
        "\n",
        "print(\"Train: \", min_train_err)\n",
        "print(\"Test: \", min_test_err)\n",
        "print(\"Alpha: \", alpha_opt)"
      ],
      "metadata": {
        "colab": {
          "base_uri": "https://localhost:8080/"
        },
        "id": "TE6avvmXc0xo",
        "outputId": "adaa8f35-a636-4b07-f7a9-0afb43087013"
      },
      "execution_count": 56,
      "outputs": [
        {
          "output_type": "stream",
          "name": "stdout",
          "text": [
            "Train:  0.2092372288313506\n",
            "Test:  0.26753670473083196\n",
            "Alpha:  0.5179474679231213\n"
          ]
        }
      ]
    },
    {
      "cell_type": "code",
      "source": [
        "mlp_model = MLPClassifier(alpha = alpha_opt, hidden_layer_sizes = (100,),\n",
        "                          solver = 'lbfgs', activation = 'logistic', random_state = 42)\n",
        "mlp_model.fit(X_train, Y_train)\n",
        "\n",
        "y_train_pred = mlp_model.predict(X_train)\n",
        "y_test_pred = mlp_model.predict(X_test)\n",
        "print(\"Train: \", np.mean(Y_train != y_train_pred))\n",
        "print(\"Test: \", np.mean(Y_test != y_test_pred))"
      ],
      "metadata": {
        "colab": {
          "base_uri": "https://localhost:8080/"
        },
        "id": "458CNN-ZdPLg",
        "outputId": "ce13ee9a-6c66-49d7-e23f-2284a2bb6182"
      },
      "execution_count": 57,
      "outputs": [
        {
          "output_type": "stream",
          "name": "stdout",
          "text": [
            "Train:  0.2491252624212736\n",
            "Test:  0.27569331158238175\n"
          ]
        },
        {
          "output_type": "stream",
          "name": "stderr",
          "text": [
            "/usr/local/lib/python3.10/dist-packages/sklearn/neural_network/_multilayer_perceptron.py:541: ConvergenceWarning: lbfgs failed to converge (status=1):\n",
            "STOP: TOTAL NO. of ITERATIONS REACHED LIMIT.\n",
            "\n",
            "Increase the number of iterations (max_iter) or scale the data as shown in:\n",
            "    https://scikit-learn.org/stable/modules/preprocessing.html\n",
            "  self.n_iter_ = _check_optimize_result(\"lbfgs\", opt_res, self.max_iter)\n"
          ]
        }
      ]
    },
    {
      "cell_type": "markdown",
      "source": [
        "Подбор числа нейронов"
      ],
      "metadata": {
        "id": "2WvQSb-GtFzv"
      }
    },
    {
      "cell_type": "code",
      "source": [
        "neurons = 50\n",
        "err_test_best = 1\n",
        "err_test_array = []\n",
        "err_train_array = []\n",
        "\n",
        "for i in range(50, 90):\n",
        "  mlp_model = MLPClassifier(alpha = alpha_opt, hidden_layer_sizes = (i,),\n",
        "                          solver = 'lbfgs', activation = 'logistic', random_state = 42)\n",
        "  mlp_model.fit(X_train, Y_train)\n",
        "\n",
        "  y_test_pred = mlp_model.predict(X_test)\n",
        "  y_train_pred = mlp_model.predict(X_train)\n",
        "  err_test = np.mean(Y_test != y_test_pred)\n",
        "  err_train = np.mean(Y_train != y_train_pred)\n",
        "\n",
        "  err_test_array.append(err_test)\n",
        "  err_train_array.append(err_train)\n",
        "  if err_test < err_test_best:\n",
        "    err_test_best = err_test\n",
        "    neurons = i"
      ],
      "metadata": {
        "id": "R6GRfpWUtFDG"
      },
      "execution_count": null,
      "outputs": []
    },
    {
      "cell_type": "code",
      "source": [
        "print(\"Test: \", err_test)\n",
        "print(\"Neurons: \", neurons)"
      ],
      "metadata": {
        "colab": {
          "base_uri": "https://localhost:8080/"
        },
        "id": "TYMxtAyVwh7l",
        "outputId": "76f353e0-7bef-4fbc-cee6-323a9f2b332d"
      },
      "execution_count": 59,
      "outputs": [
        {
          "output_type": "stream",
          "name": "stdout",
          "text": [
            "Test:  0.27814029363784665\n",
            "Neurons:  82\n"
          ]
        }
      ]
    },
    {
      "cell_type": "markdown",
      "source": [
        "Результаты подбора параметров показали, что оптимальное количество нейронов - 82, оптимальная альфа - 0,51\n",
        "\n",
        "Построим график зависимости ошибки от количества нейронов при альфа 0.51"
      ],
      "metadata": {
        "id": "vk3amXE5RXg6"
      }
    },
    {
      "cell_type": "code",
      "source": [
        "plt.plot(range(50, 90), err_train_array, 'r-o', label = 'Train error')\n",
        "plt.plot(range(50, 90), err_test_array,  'b-o', label = 'Test error')\n",
        "plt.legend(loc = 0)\n",
        "plt.xlim([90, 50])\n",
        "pass"
      ],
      "metadata": {
        "colab": {
          "base_uri": "https://localhost:8080/",
          "height": 430
        },
        "id": "nxjSRfjeOAXL",
        "outputId": "8375068f-a841-4834-a627-2abac66e121d"
      },
      "execution_count": 60,
      "outputs": [
        {
          "output_type": "display_data",
          "data": {
            "text/plain": [
              "<Figure size 640x480 with 1 Axes>"
            ],
            "image/png": "[encoded data removed]"
          },
          "metadata": {}
        }
      ]
    },
    {
      "cell_type": "code",
      "source": [
        "mlp_model = MLPClassifier(alpha = alpha_opt, hidden_layer_sizes = (neurons,),\n",
        "                          solver = 'lbfgs', activation = 'logistic', random_state = 42)\n",
        "mlp_model.fit(X_train, Y_train)\n",
        "\n",
        "y_test_pred = mlp_model.predict(X_test)\n",
        "y_train_pred = mlp_model.predict(X_train)\n",
        "\n",
        "err_test = np.mean(Y_test != y_test_pred)\n",
        "err_train = np.mean(Y_train != y_train_pred)\n",
        "\n",
        "print(err_test)\n",
        "print(err_train)"
      ],
      "metadata": {
        "colab": {
          "base_uri": "https://localhost:8080/"
        },
        "id": "_VfEhbNFIw0J",
        "outputId": "b95159e2-10ac-467c-ed54-b1cdb8bb1d0c"
      },
      "execution_count": 61,
      "outputs": [
        {
          "output_type": "stream",
          "name": "stdout",
          "text": [
            "0.2707993474714519\n",
            "0.24352694191742477\n"
          ]
        },
        {
          "output_type": "stream",
          "name": "stderr",
          "text": [
            "/usr/local/lib/python3.10/dist-packages/sklearn/neural_network/_multilayer_perceptron.py:541: ConvergenceWarning: lbfgs failed to converge (status=1):\n",
            "STOP: TOTAL NO. of ITERATIONS REACHED LIMIT.\n",
            "\n",
            "Increase the number of iterations (max_iter) or scale the data as shown in:\n",
            "    https://scikit-learn.org/stable/modules/preprocessing.html\n",
            "  self.n_iter_ = _check_optimize_result(\"lbfgs\", opt_res, self.max_iter)\n"
          ]
        }
      ]
    },
    {
      "cell_type": "markdown",
      "source": [
        "Наблюдается недообучение, т.к получаемая ошибка достаточно велика\n",
        "\n",
        "Если брать лучший результат среди всех рассмотренных моделей, то лидирует RandomForest, который обеспечивает самую низкую ошибку - 0.19"
      ],
      "metadata": {
        "id": "4n1oueG2TsuJ"
      }
    },
    {
      "cell_type": "markdown",
      "source": [
        "**Confusion matrix**"
      ],
      "metadata": {
        "id": "9D2S0MIF8C_M"
      }
    },
    {
      "cell_type": "code",
      "source": [
        "from sklearn.metrics import confusion_matrix, ConfusionMatrixDisplay\n",
        "cm = confusion_matrix(Y_test, y_test_pred)\n",
        "disp = ConfusionMatrixDisplay(confusion_matrix=cm)\n",
        "disp.plot()\n",
        "plt.show()"
      ],
      "metadata": {
        "colab": {
          "base_uri": "https://localhost:8080/",
          "height": 449
        },
        "id": "UHolBiY5eeQW",
        "outputId": "30b27059-cf80-4843-d289-41dbb9e95ae8"
      },
      "execution_count": 62,
      "outputs": [
        {
          "output_type": "display_data",
          "data": {
            "text/plain": [
              "<Figure size 640x480 with 2 Axes>"
            ],
            "image/png": "[encoded data removed]"
          },
          "metadata": {}
        }
      ]
    },
    {
      "cell_type": "markdown",
      "source": [
        "Таблица условного рейтинга выглядит следующим образом:\n",
        "0-3.9 - плохо (0)\n",
        "4-5.9 - нормально (1)\n",
        "6-7.9 - хорошо (2)\n",
        "8-10 - отлично (3)\n",
        "\n",
        "Из матрицы видно, что для рейтинга 6-7.9 предсказание происходит с максимальным количеством ошибок.\n",
        "Для рейтингов 0-3.9 и 8-10 в целом, дела обстоят намного лучше\n",
        "\n",
        "Подведем итог по полученным результатам от рассмотренных методов:\n",
        "1. RandomForest - 0.19\n",
        "2. SVC - 0.24\n",
        "3. Нейросеть - 0.27\n",
        "4. Логистическая регрессия - 0.28\n",
        "5. Классификатор ближайших соседей - 0.28\n",
        "\n",
        "\n",
        "Для данной задачи наилучший результат дает метод RandomForest"
      ],
      "metadata": {
        "id": "XwwwYTKqXzrc"
      }
    },
    {
      "cell_type": "code",
      "source": [],
      "metadata": {
        "id": "a-_ffEZHYvdp"
      },
      "execution_count": 62,
      "outputs": []
    }
  ]
}